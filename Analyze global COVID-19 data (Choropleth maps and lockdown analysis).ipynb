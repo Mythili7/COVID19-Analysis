{
 "cells": [
  {
   "cell_type": "markdown",
   "metadata": {},
   "source": [
    "# Choropleth maps using global COVID 19 data and Lockdown analysis of Italy and India"
   ]
  },
  {
   "cell_type": "markdown",
   "metadata": {},
   "source": [
    "### Please note due to the size of the maps, the output is supressed, you can re-run the code to generate all the outputs"
   ]
  },
  {
   "cell_type": "markdown",
   "metadata": {},
   "source": [
    "# Import libraries"
   ]
  },
  {
   "cell_type": "code",
   "execution_count": null,
   "metadata": {},
   "outputs": [],
   "source": [
    "import pandas as pd \n",
    "import numpy as np \n",
    "import seaborn as sns\n",
    "import matplotlib.pyplot as plt \n",
    "import plotly.express as px\n",
    "import folium\n",
    "from folium.plugins import HeatMap"
   ]
  },
  {
   "cell_type": "markdown",
   "metadata": {},
   "source": [
    "# Import the dataset"
   ]
  },
  {
   "cell_type": "code",
   "execution_count": null,
   "metadata": {},
   "outputs": [],
   "source": [
    "dataset_url = 'https://raw.githubusercontent.com/datasets/covid-19/master/data/countries-aggregated.csv'\n",
    "df = pd.read_csv(dataset_url)"
   ]
  },
  {
   "cell_type": "code",
   "execution_count": null,
   "metadata": {},
   "outputs": [],
   "source": [
    "# Check the data\n",
    "df.head()"
   ]
  },
  {
   "cell_type": "markdown",
   "metadata": {},
   "source": [
    "# Global spread of covid with Choropleth map using Plotly"
   ]
  },
  {
   "cell_type": "code",
   "execution_count": null,
   "metadata": {},
   "outputs": [],
   "source": [
    "fig = px.choropleth(df , locations = 'Country', locationmode = 'country names', color = 'Confirmed'\n",
    "                    ,animation_frame = 'Date')\n",
    "fig.update_layout(title_text = 'Global spread of Covid19')\n",
    "fig.show()"
   ]
  },
  {
   "cell_type": "markdown",
   "metadata": {},
   "source": [
    "### If you hover along the map, you will be able to view the dates, country names along with the confirmed cases"
   ]
  },
  {
   "cell_type": "markdown",
   "metadata": {},
   "source": [
    "# Saving the Choropleth map in HTML file"
   ]
  },
  {
   "cell_type": "code",
   "execution_count": null,
   "metadata": {},
   "outputs": [],
   "source": [
    "import plotly.offline as py\n",
    "\n",
    "# html file\n",
    "py.offline.plot(fig, filename='C:/plotlyplots/Global_covid.html')"
   ]
  },
  {
   "cell_type": "markdown",
   "metadata": {},
   "source": [
    "### This file can be saved in a location in C drive and can be uploaded to github. The file I have created can be viewed in this location \" https://mythili7.github.io/ \""
   ]
  },
  {
   "cell_type": "markdown",
   "metadata": {},
   "source": [
    "# Global spread of covid with Choropleth map using Folium"
   ]
  },
  {
   "cell_type": "markdown",
   "metadata": {},
   "source": [
    "## First generate the base map, we will use \"Stamen Terrain\" tiles"
   ]
  },
  {
   "cell_type": "code",
   "execution_count": null,
   "metadata": {},
   "outputs": [],
   "source": [
    "map = folium.Map(tiles = 'Stamen Terrain',min_zoom = 1.5)\n",
    "display(map);"
   ]
  },
  {
   "cell_type": "markdown",
   "metadata": {},
   "source": [
    "# Obtain the geodata¶"
   ]
  },
  {
   "cell_type": "markdown",
   "metadata": {},
   "source": [
    "### geodata url: https://raw.githubusercontent.com/python-visualization/folium/master/examples/data\n",
    "geo data file: world-countries.json"
   ]
  },
  {
   "cell_type": "code",
   "execution_count": null,
   "metadata": {},
   "outputs": [],
   "source": [
    "url = 'https://raw.githubusercontent.com/python-visualization/folium/master/examples/data'\n",
    "country_shapes = f'{url}/world-countries.json'"
   ]
  },
  {
   "cell_type": "markdown",
   "metadata": {},
   "source": [
    "# Generate Choropleth Map Layer"
   ]
  },
  {
   "cell_type": "code",
   "execution_count": null,
   "metadata": {},
   "outputs": [],
   "source": [
    "folium.Choropleth(\n",
    "    geo_data = country_shapes,\n",
    "    min_zoom=2,\n",
    "    name='Covid-19',\n",
    "    data=df,\n",
    "    columns=['Country', 'Confirmed'],\n",
    "    key_on='feature.properties.name',\n",
    "    fill_color='OrRd',\n",
    "    nan_fill_color='black',\n",
    "    legend_name = 'Total Confirmed COVID cases',\n",
    ").add_to(map)\n",
    "map"
   ]
  },
  {
   "cell_type": "markdown",
   "metadata": {},
   "source": [
    "# Generate markers to denote confirmed and recovered cases"
   ]
  },
  {
   "cell_type": "markdown",
   "metadata": {},
   "source": [
    "### Get the latitude and longitides of all countries"
   ]
  },
  {
   "cell_type": "code",
   "execution_count": null,
   "metadata": {},
   "outputs": [],
   "source": [
    "coordinates = pd.read_csv('world_coordinates.csv')\n",
    "coordinates"
   ]
  },
  {
   "cell_type": "markdown",
   "metadata": {},
   "source": [
    "# Merge the cordinates with the covid data"
   ]
  },
  {
   "cell_type": "code",
   "execution_count": null,
   "metadata": {},
   "outputs": [],
   "source": [
    "covid_df = pd.merge(df, coordinates, on = 'Country')"
   ]
  },
  {
   "cell_type": "code",
   "execution_count": null,
   "metadata": {},
   "outputs": [],
   "source": [
    "# Check the merged data\n",
    "\n",
    "covid_df"
   ]
  },
  {
   "cell_type": "markdown",
   "metadata": {},
   "source": [
    "# Define the function for the markers¶"
   ]
  },
  {
   "cell_type": "markdown",
   "metadata": {},
   "source": [
    "### Here we will use circular markers, you can also use other custom markers"
   ]
  },
  {
   "cell_type": "code",
   "execution_count": null,
   "metadata": {},
   "outputs": [],
   "source": [
    "def plotDot(point):\n",
    "    folium.CircleMarker(location = (point.latitude, point.longitude),\n",
    "                       radius = 5,\n",
    "                       weight = 2,\n",
    "                       popup = [point.Country, point.Confirmed, point.Recovered],\n",
    "                       fill_color = '#000000').add_to(map)"
   ]
  },
  {
   "cell_type": "markdown",
   "metadata": {},
   "source": [
    "# Add the markers to the earlier map"
   ]
  },
  {
   "cell_type": "code",
   "execution_count": null,
   "metadata": {},
   "outputs": [],
   "source": [
    "covid_df.apply(plotDot, axis = 1)\n",
    "map.fit_bounds(map.get_bounds())\n",
    "map"
   ]
  },
  {
   "cell_type": "code",
   "execution_count": null,
   "metadata": {},
   "outputs": [],
   "source": [
    "# The map can be saved in html file\n",
    "\n",
    "map.save('C:/plotlyplots/Global_covid_Folium.html')"
   ]
  },
  {
   "cell_type": "markdown",
   "metadata": {},
   "source": [
    "# Infection rate by country\n",
    "# Let us visualize how severe the infection is with a specific country"
   ]
  },
  {
   "cell_type": "code",
   "execution_count": null,
   "metadata": {},
   "outputs": [],
   "source": [
    "df_italy= covid_df[covid_df.Country == 'Italy']\n",
    "df_italy.head()"
   ]
  },
  {
   "cell_type": "markdown",
   "metadata": {},
   "source": [
    "## Select specific columns"
   ]
  },
  {
   "cell_type": "code",
   "execution_count": null,
   "metadata": {},
   "outputs": [],
   "source": [
    "df_italy = df_italy[['Date' , 'Confirmed']]\n",
    "df_italy.tail()"
   ]
  },
  {
   "cell_type": "markdown",
   "metadata": {},
   "source": [
    "## To calculate infection rate, we will take the first derivative of the column 'Confirmed'"
   ]
  },
  {
   "cell_type": "code",
   "execution_count": null,
   "metadata": {},
   "outputs": [],
   "source": [
    "df_italy['Infection rate'] = df_italy['Confirmed'].diff()\n",
    "df_italy.tail()"
   ]
  },
  {
   "cell_type": "markdown",
   "metadata": {},
   "source": [
    "# Plot the infection rate for Italy"
   ]
  },
  {
   "cell_type": "code",
   "execution_count": null,
   "metadata": {},
   "outputs": [],
   "source": [
    "px.line(df_italy, x = 'Date',y = 'Infection rate')"
   ]
  },
  {
   "cell_type": "code",
   "execution_count": null,
   "metadata": {},
   "outputs": [],
   "source": [
    "df_italy['Infection rate'].max()"
   ]
  },
  {
   "cell_type": "markdown",
   "metadata": {},
   "source": [
    "# Calculate infection rate across all the countries"
   ]
  },
  {
   "cell_type": "code",
   "execution_count": null,
   "metadata": {},
   "outputs": [],
   "source": [
    "countries = list(df['Country'].unique())\n",
    "countries"
   ]
  },
  {
   "cell_type": "code",
   "execution_count": null,
   "metadata": {},
   "outputs": [],
   "source": [
    "countries = list(df['Country'].unique())\n",
    "max_infection_rates = []\n",
    "for i in countries:\n",
    "    MIR = df[df.Country == i].Confirmed.diff().max()\n",
    "    max_infection_rates.append(MIR)\n",
    "print(max_infection_rates)"
   ]
  },
  {
   "cell_type": "markdown",
   "metadata": {},
   "source": [
    "## Create a new dataframe"
   ]
  },
  {
   "cell_type": "code",
   "execution_count": null,
   "metadata": {},
   "outputs": [],
   "source": [
    "df_MIR = pd.DataFrame()\n",
    "df_MIR['Country'] = countries\n",
    "df_MIR['Max Infection rate'] = max_infection_rates\n",
    "df_MIR.head()"
   ]
  },
  {
   "cell_type": "markdown",
   "metadata": {},
   "source": [
    "# Plot the max infection rate for all the countries"
   ]
  },
  {
   "cell_type": "code",
   "execution_count": null,
   "metadata": {},
   "outputs": [],
   "source": [
    "px.bar(df_MIR, x = 'Country', y = 'Max Infection rate', color = 'Country', title = 'MIR', log_y = True)"
   ]
  },
  {
   "cell_type": "markdown",
   "metadata": {},
   "source": [
    "# Lockdown effect in Italy"
   ]
  },
  {
   "cell_type": "markdown",
   "metadata": {},
   "source": [
    "### Lockdown was imposed on Italy on 9Mar2020. We will examine the effect post 1 month"
   ]
  },
  {
   "cell_type": "code",
   "execution_count": null,
   "metadata": {},
   "outputs": [],
   "source": [
    "italy_lockdown_start_date = '2020-03-09'\n",
    "italy_lockdown_a_month_later = '2020-04-09'"
   ]
  },
  {
   "cell_type": "code",
   "execution_count": null,
   "metadata": {},
   "outputs": [],
   "source": [
    "df_italy2['Infection rate'] = df_italy2.Confirmed.diff()\n",
    "df_italy2.head()"
   ]
  },
  {
   "cell_type": "markdown",
   "metadata": {},
   "source": [
    "## Visualize before and after lockdown"
   ]
  },
  {
   "cell_type": "code",
   "execution_count": null,
   "metadata": {},
   "outputs": [],
   "source": [
    "fig = px.line(df_italy, x = 'Date', y = 'Infection rate', title = 'Before and after lockdown')\n",
    "fig.add_shape(\n",
    "    dict(\n",
    "    type = 'line',\n",
    "    x0 = italy_lockdown_start_date,\n",
    "    y0 = 0,\n",
    "    x1 = italy_lockdown_start_date,\n",
    "    y1 = df_italy['Infection rate'].max(),\n",
    "    line = dict(color='red',width =2)\n",
    ")\n",
    "\n",
    ")\n",
    "\n",
    "fig.add_shape(\n",
    "    dict(\n",
    "    type = 'line',\n",
    "    x0 = italy_lockdown_a_month_later,\n",
    "    y0 = 0,\n",
    "    x1 = italy_lockdown_a_month_later,\n",
    "    y1 = df_italy['Infection rate'].max(),\n",
    "    line = dict(color='purple',width =2)\n",
    ")\n",
    "\n",
    ")"
   ]
  },
  {
   "cell_type": "markdown",
   "metadata": {},
   "source": [
    "#### Lockdown had some effect in Italy, with the cases significantly decreasing during as well as after the lockdown.In recent times though, Sep 30 onwards, we again observe a surge in cases"
   ]
  },
  {
   "cell_type": "markdown",
   "metadata": {},
   "source": [
    "# Impact on death rates"
   ]
  },
  {
   "cell_type": "code",
   "execution_count": null,
   "metadata": {},
   "outputs": [],
   "source": [
    "df_italy2['Death rate'] = df_italy2.Deaths.diff()"
   ]
  },
  {
   "cell_type": "code",
   "execution_count": null,
   "metadata": {},
   "outputs": [],
   "source": [
    "df_italy2.head()"
   ]
  },
  {
   "cell_type": "code",
   "execution_count": null,
   "metadata": {},
   "outputs": [],
   "source": [
    "fig = px.line(df_italy2, x = 'Date', y = ['Infection rate', 'Death rate'])\n",
    "fig.show()"
   ]
  },
  {
   "cell_type": "markdown",
   "metadata": {},
   "source": [
    "#### Due to the scale, we are unable to observe the difference in the Infection rate and Death rate. Hence, we need to use data normalization"
   ]
  },
  {
   "cell_type": "markdown",
   "metadata": {},
   "source": [
    "# Normalize the columns"
   ]
  },
  {
   "cell_type": "code",
   "execution_count": null,
   "metadata": {},
   "outputs": [],
   "source": [
    "df_italy2['Infection rate']/df_italy2['Infection rate'].max()"
   ]
  },
  {
   "cell_type": "code",
   "execution_count": null,
   "metadata": {},
   "outputs": [],
   "source": [
    "df_italy2['Infection rate'] = df_italy2['Infection rate']/df_italy2['Infection rate'].max()"
   ]
  },
  {
   "cell_type": "code",
   "execution_count": null,
   "metadata": {},
   "outputs": [],
   "source": [
    "df_italy2['Death rate'] = df_italy2['Death rate']/df_italy2['Death rate'].max()"
   ]
  },
  {
   "cell_type": "code",
   "execution_count": null,
   "metadata": {},
   "outputs": [],
   "source": [
    "fig = px.line(df_italy2, x = 'Date', y = ['Infection rate', 'Death rate'])\n",
    "\n",
    "fig.show()"
   ]
  },
  {
   "cell_type": "markdown",
   "metadata": {},
   "source": [
    "#### At the initial phases, the death rate was much higher than the infection rate. The death rate has stabilized around July'20, with a surge observed in the recent rise of COVID-19 cases. However, the death rate now is lower than the infection rates."
   ]
  },
  {
   "cell_type": "markdown",
   "metadata": {},
   "source": [
    "# Effect of lockdown in India"
   ]
  },
  {
   "cell_type": "code",
   "execution_count": null,
   "metadata": {},
   "outputs": [],
   "source": [
    "india_lockdown_phase1 = '2020-03-25'\n",
    "india_lockdown_phase2 = '2020-04-15'\n",
    "india_lockdown_phase3 = '2020-05-04'\n",
    "india_lockdown_phase4 = '2020-05-18'"
   ]
  },
  {
   "cell_type": "code",
   "execution_count": null,
   "metadata": {},
   "outputs": [],
   "source": [
    "df_india = df[df.Country == 'India']\n",
    "df_india"
   ]
  },
  {
   "cell_type": "code",
   "execution_count": null,
   "metadata": {},
   "outputs": [],
   "source": [
    "df_india['Infection rate'] = df_india.Confirmed.diff()\n",
    "df_india.head()"
   ]
  },
  {
   "cell_type": "code",
   "execution_count": null,
   "metadata": {},
   "outputs": [],
   "source": [
    "fig = px.line(df_india, x = 'Date', y = 'Infection rate', title = 'Before and after lockdown')\n",
    "fig.add_shape(\n",
    "    dict(\n",
    "    type = 'line',\n",
    "    x0 = india_lockdown_phase1,\n",
    "    y0 = 0,\n",
    "    x1 = india_lockdown_phase1,\n",
    "    y1 = df_india['Infection rate'].max(),\n",
    "    line = dict(color='red',width =2)\n",
    ")\n",
    "\n",
    ")\n",
    "\n",
    "fig.add_shape(\n",
    "    dict(\n",
    "    type = 'line',\n",
    "    x0 = india_lockdown_phase2,\n",
    "    y0 = 0,\n",
    "    x1 = india_lockdown_phase2,\n",
    "    y1 = df_india['Infection rate'].max(),\n",
    "    line = dict(color='green',width =2)\n",
    ")\n",
    "\n",
    ")\n",
    "\n",
    "\n",
    "\n",
    "fig.add_shape(\n",
    "    dict(\n",
    "    type = 'line',\n",
    "    x0 = india_lockdown_phase3,\n",
    "    y0 = 0,\n",
    "    x1 = india_lockdown_phase3,\n",
    "    y1 = df_india['Infection rate'].max(),\n",
    "    line = dict(color='orange',width =2)\n",
    ")\n",
    "\n",
    ")\n",
    "\n",
    "\n",
    "\n",
    "fig.add_shape(\n",
    "    dict(\n",
    "    type = 'line',\n",
    "    x0 = india_lockdown_phase4,\n",
    "    y0 = 0,\n",
    "    x1 = india_lockdown_phase4,\n",
    "    y1 = df_india['Infection rate'].max(),\n",
    "    line = dict(color='purple',width =2)\n",
    ")\n",
    "\n",
    ")"
   ]
  },
  {
   "cell_type": "markdown",
   "metadata": {},
   "source": [
    "#### For India, probably the lockdown came too soon and the there seems to be no effect felt of the lockdown. Post middle of Sep, the peak was reached and we can see a declining trend."
   ]
  },
  {
   "cell_type": "code",
   "execution_count": null,
   "metadata": {},
   "outputs": [],
   "source": []
  }
 ],
 "metadata": {
  "kernelspec": {
   "display_name": "Python 3",
   "language": "python",
   "name": "python3"
  },
  "language_info": {
   "codemirror_mode": {
    "name": "ipython",
    "version": 3
   },
   "file_extension": ".py",
   "mimetype": "text/x-python",
   "name": "python",
   "nbconvert_exporter": "python",
   "pygments_lexer": "ipython3",
   "version": "3.7.4"
  }
 },
 "nbformat": 4,
 "nbformat_minor": 2
}
